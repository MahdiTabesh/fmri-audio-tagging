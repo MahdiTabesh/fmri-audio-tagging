{
 "cells": [
  {
   "cell_type": "code",
   "execution_count": null,
   "id": "419b31d1",
   "metadata": {},
   "outputs": [
    {
     "name": "stderr",
     "output_type": "stream",
     "text": [
      "/Users/personalaccount/Desktop/LabelingAudioMovie/.venv/lib/python3.11/site-packages/tqdm/auto.py:21: TqdmWarning: IProgress not found. Please update jupyter and ipywidgets. See https://ipywidgets.readthedocs.io/en/stable/user_install.html\n",
      "  from .autonotebook import tqdm as notebook_tqdm\n",
      "Using a slow image processor as `use_fast` is unset and a slow processor was saved with this model. `use_fast=True` will be the default behavior in v4.52, even if the model was saved with a slow processor. This will result in minor differences in outputs. You'll still be able to use a slow processor with `use_fast=False`.\n"
     ]
    },
    {
     "data": {
      "text/plain": [
       "CLIPVisionModelWithProjection(\n",
       "  (vision_model): CLIPVisionTransformer(\n",
       "    (embeddings): CLIPVisionEmbeddings(\n",
       "      (patch_embedding): Conv2d(3, 1024, kernel_size=(14, 14), stride=(14, 14), bias=False)\n",
       "      (position_embedding): Embedding(257, 1024)\n",
       "    )\n",
       "    (pre_layrnorm): LayerNorm((1024,), eps=1e-05, elementwise_affine=True)\n",
       "    (encoder): CLIPEncoder(\n",
       "      (layers): ModuleList(\n",
       "        (0-23): 24 x CLIPEncoderLayer(\n",
       "          (self_attn): CLIPSdpaAttention(\n",
       "            (k_proj): Linear(in_features=1024, out_features=1024, bias=True)\n",
       "            (v_proj): Linear(in_features=1024, out_features=1024, bias=True)\n",
       "            (q_proj): Linear(in_features=1024, out_features=1024, bias=True)\n",
       "            (out_proj): Linear(in_features=1024, out_features=1024, bias=True)\n",
       "          )\n",
       "          (layer_norm1): LayerNorm((1024,), eps=1e-05, elementwise_affine=True)\n",
       "          (mlp): CLIPMLP(\n",
       "            (activation_fn): QuickGELUActivation()\n",
       "            (fc1): Linear(in_features=1024, out_features=4096, bias=True)\n",
       "            (fc2): Linear(in_features=4096, out_features=1024, bias=True)\n",
       "          )\n",
       "          (layer_norm2): LayerNorm((1024,), eps=1e-05, elementwise_affine=True)\n",
       "        )\n",
       "      )\n",
       "    )\n",
       "    (post_layernorm): LayerNorm((1024,), eps=1e-05, elementwise_affine=True)\n",
       "  )\n",
       "  (visual_projection): Linear(in_features=1024, out_features=768, bias=False)\n",
       ")"
      ]
     },
     "execution_count": 18,
     "metadata": {},
     "output_type": "execute_result"
    }
   ],
   "source": [
    "from transformers import CLIPProcessor, CLIPVisionModelWithProjection\n",
    "import torch, pathlib\n",
    "from PIL import Image\n",
    "\n",
    "device = \"cuda\" if torch.cuda.is_available() else \"cpu\"\n",
    "\n",
    "model_name = \"openai/clip-vit-large-patch14\" \n",
    "processor  = CLIPProcessor.from_pretrained(model_name)\n",
    "vision_enc = CLIPVisionModelWithProjection.from_pretrained(model_name).to(device)\n",
    "vision_enc.eval()"
   ]
  },
  {
   "cell_type": "code",
   "execution_count": null,
   "id": "9fbc333f",
   "metadata": {},
   "outputs": [
    {
     "name": "stdout",
     "output_type": "stream",
     "text": [
      "device cpu\n"
     ]
    },
    {
     "ename": "",
     "evalue": "",
     "output_type": "error",
     "traceback": [
      "\u001b[1;31mThe Kernel crashed while executing code in the current cell or a previous cell. \n",
      "\u001b[1;31mPlease review the code in the cell(s) to identify a possible cause of the failure. \n",
      "\u001b[1;31mClick <a href='https://aka.ms/vscodeJupyterKernelCrash'>here</a> for more info. \n",
      "\u001b[1;31mView Jupyter <a href='command:jupyter.viewOutput'>log</a> for further details."
     ]
    }
   ],
   "source": [
    "print(f\"device {device}\")"
   ]
  },
  {
   "cell_type": "code",
   "execution_count": null,
   "id": "077c188e",
   "metadata": {},
   "outputs": [
    {
     "name": "stdout",
     "output_type": "stream",
     "text": [
      "number of frames: 87720\n",
      "frame rate: 24.0\n",
      "length in seconds: 3655.0\n"
     ]
    },
    {
     "data": {
      "text/plain": [
       "array([0.000e+00, 1.000e+00, 2.000e+00, ..., 3.652e+03, 3.653e+03,\n",
       "       3.654e+03], shape=(3655,))"
      ]
     },
     "execution_count": 28,
     "metadata": {},
     "output_type": "execute_result"
    }
   ],
   "source": [
    "import cv2\n",
    "import numpy as np\n",
    "\n",
    "video_path = '../movie.mp4'\n",
    "cap = cv2.VideoCapture(video_path)\n",
    "\n",
    "print(f\"number of frames: {int(cap.get(cv2.CAP_PROP_FRAME_COUNT))}\")\n",
    "print(f\"frame rate: {cap.get(cv2.CAP_PROP_FPS)}\")\n",
    "print(f\"length in seconds: {cap.get(cv2.CAP_PROP_FRAME_COUNT) / cap.get(cv2.CAP_PROP_FPS)}\")\n",
    "\n",
    "seconds = np.arange(0, cap.get(cv2.CAP_PROP_FRAME_COUNT) / cap.get(cv2.CAP_PROP_FPS))\n",
    "seconds"
   ]
  },
  {
   "cell_type": "code",
   "execution_count": null,
   "id": "686f9730",
   "metadata": {},
   "outputs": [
    {
     "name": "stdout",
     "output_type": "stream",
     "text": [
      "Failed to read frame at 3655.0 seconds.\n"
     ]
    }
   ],
   "source": [
    "from PIL import Image\n",
    "\n",
    "for sec in seconds:\n",
    "    cap.set(cv2.CAP_PROP_POS_MSEC, sec*1000) \n",
    "    ret, frame = cap.read()\n",
    "\n",
    "    # save frame as image\n",
    "    if ret:\n",
    "        frame = cv2.cvtColor(frame, cv2.COLOR_BGR2RGB) \n",
    "        image = Image.fromarray(frame)\n",
    "        image.save(f\"../frames/{int(sec)}.jpg\")\n",
    "    else:\n",
    "        print(f\"Failed to read frame at {sec} seconds.\")"
   ]
  },
  {
   "cell_type": "code",
   "execution_count": null,
   "id": "858ffcb1",
   "metadata": {},
   "outputs": [],
   "source": [
    "# apply CLIP to the frames\n",
    "import os\n",
    "frames_path = pathlib.Path(\"../frames\")\n",
    "\n",
    "features = []\n",
    "for frame_file in seconds:\n",
    "    print(f\"Processing {frames_path}/{int(frame_file)}.jpg\")\n",
    "    image = Image.open(f\"{frames_path}/{int(frame_file)}.jpg\").convert(\"RGB\")\n",
    "    inputs = processor(images=image, return_tensors=\"pt\").to(device)\n",
    "    \n",
    "    with torch.no_grad():\n",
    "        outputs = vision_enc(**inputs)\n",
    "    \n",
    "    image_features = outputs.image_embeds\n",
    "    print(f\"feature shape: {image_features.shape}\")\n",
    "    \n",
    "    features.append(image_features.cpu().numpy())\n",
    "\n",
    "features = np.concatenate(features, axis=0)\n",
    "print(f\"features shape: {features.shape}\")"
   ]
  },
  {
   "cell_type": "code",
   "execution_count": 25,
   "id": "4d3f6ec1",
   "metadata": {},
   "outputs": [
    {
     "name": "stdout",
     "output_type": "stream",
     "text": [
      "features shape: (3655, 768)\n"
     ]
    }
   ],
   "source": [
    "features = np.concatenate(features, axis=0)\n",
    "print(f\"features shape: {features.shape}\")"
   ]
  },
  {
   "cell_type": "code",
   "execution_count": 26,
   "id": "cf872a99",
   "metadata": {},
   "outputs": [],
   "source": [
    "# save features as mat\n",
    "import scipy.io as sio\n",
    "sio.savemat(\"vision_clip_features.mat\", {\"features\": features})"
   ]
  }
 ],
 "metadata": {
  "kernelspec": {
   "display_name": ".venv",
   "language": "python",
   "name": "python3"
  },
  "language_info": {
   "codemirror_mode": {
    "name": "ipython",
    "version": 3
   },
   "file_extension": ".py",
   "mimetype": "text/x-python",
   "name": "python",
   "nbconvert_exporter": "python",
   "pygments_lexer": "ipython3",
   "version": "3.11.6"
  }
 },
 "nbformat": 4,
 "nbformat_minor": 5
}
