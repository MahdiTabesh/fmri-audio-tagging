{
 "cells": [
  {
   "cell_type": "code",
   "execution_count": 1,
   "id": "8a8d070e",
   "metadata": {},
   "outputs": [
    {
     "name": "stderr",
     "output_type": "stream",
     "text": [
      "/opt/conda/envs/pytorch-dev/lib/python3.10/site-packages/torch/nn/utils/weight_norm.py:143: FutureWarning: `torch.nn.utils.weight_norm` is deprecated in favor of `torch.nn.utils.parametrizations.weight_norm`.\n",
      "  WeightNorm.apply(module, name, dim)\n",
      "366it [00:30, 12.19it/s]                                                        \n",
      "Extracting CLIP features: 100%|█████████████| 3655/3655 [04:13<00:00, 14.40it/s]"
     ]
    },
    {
     "name": "stdout",
     "output_type": "stream",
     "text": [
      "Final CLIP feature shape: (3655, 768)\n",
      "Saved features to vision_clip_features.mat\n"
     ]
    },
    {
     "name": "stderr",
     "output_type": "stream",
     "text": [
      "\n"
     ]
    }
   ],
   "source": [
    "import sys, os\n",
    "sys.path.append(os.path.abspath(\"..\"))\n",
    "\n",
    "from feature_extraction.beats_extractor import load_models as load_beats, preprocess_audio, extract_beats_features\n",
    "from feature_extraction.clip_extractor import initialize_clip_model, extract_clip_features, save_clip_features\n",
    "from scipy.io import savemat\n",
    "import pathlib\n",
    "import numpy as np\n",
    "\n",
    "# load the audio model\n",
    "BEATs_tokenizer, BEATs_model = load_beats()\n",
    "\n",
    "# preprocess audio\n",
    "waveform, sr = preprocess_audio(\"../rest_audio.wav\")  # assumes rest_audio.wav in project root\n",
    "\n",
    "# extract beats features averaged per second\n",
    "features_per_sec, labels = extract_beats_features(waveform, BEATs_tokenizer, BEATs_model, sample_rate=sr)\n",
    "\n",
    "# save audio features\n",
    "savemat(\"features_per_sec.mat\", {\"features_per_sec\": features_per_sec})\n",
    "\n",
    "# load CLIP model\n",
    "processor, vision_model = initialize_clip_model()\n",
    "\n",
    "# extract frame numbers from saved frames\n",
    "frames_dir = \"../feature_extraction/frames\"  # confirmed working path\n",
    "import cv2\n",
    "video_path = \"../movie.mp4\"\n",
    "cap = cv2.VideoCapture(video_path)\n",
    "frame_count = cap.get(cv2.CAP_PROP_FRAME_COUNT)\n",
    "fps = cap.get(cv2.CAP_PROP_FPS)\n",
    "total_seconds = int(np.ceil(frame_count / fps))\n",
    "\n",
    "frame_indices = np.arange(total_seconds)\n",
    "\n",
    "\n",
    "# extract CLIP features for all frames\n",
    "clip_features = extract_clip_features(frames_dir, frame_indices, processor, vision_model)\n",
    "\n",
    "# save vision features\n",
    "save_clip_features(clip_features, \"vision_clip_features.mat\")\n"
   ]
  },
  {
   "cell_type": "code",
   "execution_count": 2,
   "id": "8c1e07e6-569d-4bfc-9f7d-af4fe3c70177",
   "metadata": {},
   "outputs": [
    {
     "data": {
      "text/plain": [
       "((3655, 768), (3655, 768))"
      ]
     },
     "execution_count": 2,
     "metadata": {},
     "output_type": "execute_result"
    }
   ],
   "source": [
    "# load features from mat files\n",
    "import scipy.io as sio\n",
    "\n",
    "Audio_path = \"features_per_sec.mat\"\n",
    "Vision_path = \"vision_clip_features.mat\"\n",
    "\n",
    "data_audio = sio.loadmat(Audio_path)['features_per_sec']\n",
    "data_vision = sio.loadmat(Vision_path)['features']\n",
    "\n",
    "data_audio.shape, data_vision.shape\n"
   ]
  },
  {
   "cell_type": "code",
   "execution_count": 2,
   "id": "f909cd12",
   "metadata": {},
   "outputs": [
    {
     "name": "stdout",
     "output_type": "stream",
     "text": [
      "Feature space dimensions: (3655, 1536)\n"
     ]
    }
   ],
   "source": [
    "data = np.concatenate((data_audio, data_vision), axis=1)\n",
    "print('Feature space dimensions:', data.shape)"
   ]
  },
  {
   "cell_type": "code",
   "execution_count": 2,
   "id": "2bb8ce0f",
   "metadata": {},
   "outputs": [
    {
     "data": {
      "text/plain": [
       "((32492, 3655), (32492, 3655))"
      ]
     },
     "execution_count": 2,
     "metadata": {},
     "output_type": "execute_result"
    }
   ],
   "source": [
    "# Load Brain data\n",
    "LH_path = '../notmean_left_Meanfile.mat'\n",
    "RH_path = '../notmean_right_Meanfile.mat'\n",
    "\n",
    "data_LH = sio.loadmat(LH_path)['Left_data']\n",
    "data_RH = sio.loadmat(RH_path)['Right_data']\n",
    "\n",
    "data_RH.shape, data_LH.shape"
   ]
  },
  {
   "cell_type": "code",
   "execution_count": 4,
   "id": "3f628f75",
   "metadata": {},
   "outputs": [
    {
     "name": "stdout",
     "output_type": "stream",
     "text": [
      "Brain data dimensions: (3655, 64984)\n"
     ]
    }
   ],
   "source": [
    "brain = np.concatenate((data_LH, data_RH), axis=0)\n",
    "brain = brain.transpose()\n",
    "\n",
    "print('Brain data dimensions:', brain.shape)"
   ]
  },
  {
   "cell_type": "code",
   "execution_count": 5,
   "id": "49f870a2",
   "metadata": {},
   "outputs": [
    {
     "name": "stdout",
     "output_type": "stream",
     "text": [
      "std.min = 0.012566308490931988, std.max = 1.6923041343688965\n",
      "std.min = 0.0, std.max = 1.3306655238461678\n"
     ]
    }
   ],
   "source": [
    "# Normalize data\n",
    "def normalize_data(data):\n",
    "    mean = np.mean(data, axis=0)\n",
    "    std = np.std(data, axis=0)\n",
    "    normalized_data = (data - mean) / (std + 1e-8) \n",
    "    print(f\"std.min = {std.min()}, std.max = {std.max()}\")\n",
    "    if std.any() == 0:\n",
    "        print(\"Warning: Standard deviation is zero for some features, normalization may not be effective.\")\n",
    "    return normalized_data\n",
    "\n",
    "data = normalize_data(data)\n",
    "brain = normalize_data(brain)"
   ]
  },
  {
   "cell_type": "code",
   "execution_count": 13,
   "id": "a1d088e4",
   "metadata": {},
   "outputs": [],
   "source": [
    "def create_training_data(data, activity, delay):\n",
    "\n",
    "    data = np.roll(data, delay, axis=0)\n",
    "    \n",
    "    return data, activity"
   ]
  },
  {
   "cell_type": "code",
   "execution_count": 15,
   "id": "cdfb622b",
   "metadata": {},
   "outputs": [
    {
     "name": "stdout",
     "output_type": "stream",
     "text": [
      "Train data shape: (2924, 1536)\n",
      "Test data shape: (731, 1536)\n",
      "Train brain shape: (2924, 64984)\n",
      "Test brain shape: (731, 64984)\n"
     ]
    }
   ],
   "source": [
    "# split data and brain to train and test\n",
    "data_train = data[:int(data.shape[0] * 0.8)]\n",
    "data_test = data[int(data.shape[0] * 0.8):]\n",
    "brain_train = brain[:int(brain.shape[0] * 0.8)]\n",
    "brain_test = brain[int(brain.shape[0] * 0.8):]\n",
    "\n",
    "# print shapes\n",
    "print('Train data shape:', data_train.shape)\n",
    "print('Test data shape:', data_test.shape)\n",
    "print('Train brain shape:', brain_train.shape)\n",
    "print('Test brain shape:', brain_test.shape)"
   ]
  },
  {
   "cell_type": "code",
   "execution_count": 18,
   "id": "bb822c66",
   "metadata": {},
   "outputs": [],
   "source": [
    "from sklearn.linear_model import LinearRegression\n",
    "import joblib\n",
    "from tqdm import tqdm\n",
    "from scipy.stats import pearsonr\n",
    "import matplotlib.pyplot as plt\n",
    "\n",
    "def calculate_r_values(predicted, activity):\n",
    "    r_values = []\n",
    "    for i in range(activity.shape[1]):\n",
    "        r, _ = pearsonr(predicted[:, i], activity[:, i])\n",
    "        r_values.append(r)\n",
    "    return np.array(r_values)"
   ]
  },
  {
   "cell_type": "code",
   "execution_count": null,
   "id": "cac70f3f",
   "metadata": {
    "scrolled": true
   },
   "outputs": [],
   "source": [
    "r_values_list = []\n",
    "plt.figure(figsize=(10, 5))\n",
    "for delay in range(0, 10):\n",
    "    x_train, y_train = create_training_data(data_train, brain_train, delay)\n",
    "    x_test, y_test = create_training_data(data_test, brain_test, delay)\n",
    "\n",
    "    model = LinearRegression()\n",
    "    model.fit(x_train, y_train)\n",
    "\n",
    "    predicted = model.predict(x_test)\n",
    "    r_values = calculate_r_values(predicted, y_test)\n",
    "\n",
    "    r_values_list.append(r_values)\n",
    "\n",
    "    # plot histogram of r values\n",
    "    plt.hist(r_values, bins=50, color='blue', alpha=0.7)\n",
    "    plt.title(f'Histogram of R Values - Delay {delay}')\n",
    "    plt.xlabel('R Value')\n",
    "    plt.ylabel('Frequency')\n",
    "plt.axvline(x=0, color='red', linestyle='--', label='Zero Line')\n",
    "plt.legend()\n",
    "plt.show()"
   ]
  },
  {
   "cell_type": "code",
   "execution_count": null,
   "id": "3bc3c574",
   "metadata": {},
   "outputs": [
    {
     "name": "stdout",
     "output_type": "stream",
     "text": [
      "0 ==> Mean R value: 0.09130468514522554\n",
      "1 ==> Mean R value: 0.09745208947544147\n",
      "2 ==> Mean R value: 0.11961468988167887\n",
      "3 ==> Mean R value: 0.1503482671942227\n",
      "4 ==> Mean R value: 0.1597899710528575\n",
      "5 ==> Mean R value: 0.15305630297241685\n",
      "6 ==> Mean R value: 0.1368260905431802\n",
      "7 ==> Mean R value: 0.11734160925632078\n",
      "8 ==> Mean R value: 0.1049264806286522\n",
      "9 ==> Mean R value: 0.10282426406221173\n"
     ]
    }
   ],
   "source": [
    "for ind, r_values in enumerate(r_values_list):\n",
    "    # replace nan values with 0\n",
    "    r_values = np.nan_to_num(r_values, nan=0.0)\n",
    "    # print(f\"R values for delay {ind}:\")\n",
    "    # print(r_values)\n",
    "    print(f\"{ind} ==> Mean R value: {np.mean(r_values)}\")\n",
    "    # print(f\"Max R value: {np.max(r_values)}\")\n",
    "    # print(f\"Min R value: {np.min(r_values)}\")"
   ]
  },
  {
   "cell_type": "code",
   "execution_count": 34,
   "id": "cb224d43",
   "metadata": {},
   "outputs": [
    {
     "name": "stderr",
     "output_type": "stream",
     "text": [
      "/var/folders/ty/6cj0ly9j2wb27pn1syqcsytc0000gn/T/ipykernel_52735/2443879306.py:14: UserWarning: No artists with labels found to put in legend.  Note that artists whose label start with an underscore are ignored when legend() is called with no argument.\n",
      "  plt.legend()\n"
     ]
    },
    {
     "data": {
      "image/png": "[encoded data removed]",
      "text/plain": [
       "<Figure size 1000x500 with 1 Axes>"
      ]
     },
     "metadata": {},
     "output_type": "display_data"
    }
   ],
   "source": [
    "r_list = []\n",
    "for ind, r_values in enumerate(r_values_list):\n",
    "    # replace nan values with 0\n",
    "    r_values = np.nan_to_num(r_values, nan=0.0)\n",
    "    r_list.append((np.mean(r_values),np.std(r_values)))\n",
    "# print(r_list)\n",
    "\n",
    "# plot mean and std of r values\n",
    "plt.figure(figsize=(10, 5))\n",
    "plt.bar(range(len(r_list)), [x[0] for x in r_list], color='blue', alpha=0.7)\n",
    "plt.xlabel('Delay')\n",
    "plt.ylabel('Mean R')\n",
    "plt.xticks(range(len(r_list)))\n",
    "plt.legend()\n",
    "plt.show()"
   ]
  }
 ],
 "metadata": {
  "kernelspec": {
   "display_name": "Python 3 (ipykernel)",
   "language": "python",
   "name": "python3"
  },
  "language_info": {
   "codemirror_mode": {
    "name": "ipython",
    "version": 3
   },
   "file_extension": ".py",
   "mimetype": "text/x-python",
   "name": "python",
   "nbconvert_exporter": "python",
   "pygments_lexer": "ipython3",
   "version": "3.10.16"
  }
 },
 "nbformat": 4,
 "nbformat_minor": 5
}
