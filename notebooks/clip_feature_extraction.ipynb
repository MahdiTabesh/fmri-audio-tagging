{
 "cells": [
  {
   "cell_type": "code",
   "execution_count": null,
   "id": "419b31d1",
   "metadata": {
    "scrolled": true
   },
   "outputs": [],
   "source": [
    "from transformers import CLIPProcessor, CLIPVisionModelWithProjection\n",
    "import torch, pathlib\n",
    "from PIL import Image\n",
    "\n",
    "device = \"cuda\" if torch.cuda.is_available() else \"cpu\"\n",
    "\n",
    "model_name = \"openai/clip-vit-large-patch14\" \n",
    "processor  = CLIPProcessor.from_pretrained(model_name)\n",
    "vision_enc = CLIPVisionModelWithProjection.from_pretrained(model_name).to(device)\n",
    "vision_enc.eval()"
   ]
  },
  {
   "cell_type": "code",
   "execution_count": 2,
   "id": "9fbc333f",
   "metadata": {},
   "outputs": [
    {
     "name": "stdout",
     "output_type": "stream",
     "text": [
      "device cuda\n"
     ]
    }
   ],
   "source": [
    "print(f\"device {device}\")"
   ]
  },
  {
   "cell_type": "code",
   "execution_count": 1,
   "id": "cde8083c-aa27-45b9-b043-32327526ac4a",
   "metadata": {},
   "outputs": [
    {
     "name": "stdout",
     "output_type": "stream",
     "text": [
      "number of frames: 87720\n",
      "frame rate: 24.0\n",
      "length in seconds: 3655.0\n"
     ]
    }
   ],
   "source": [
    "#1 frame per second from video\n",
    "import cv2\n",
    "import os\n",
    "import numpy as np\n",
    "\n",
    "video_path = \"../movie.mp4\"\n",
    "frames_dir = \"../feature_extraction/frames\"\n",
    "os.makedirs(frames_dir, exist_ok=True)\n",
    "\n",
    "cap = cv2.VideoCapture(video_path)\n",
    "fps = cap.get(cv2.CAP_PROP_FPS)\n",
    "frame_count = int(cap.get(cv2.CAP_PROP_FRAME_COUNT))\n",
    "duration = int(np.ceil(frame_count / fps))\n",
    "\n",
    "print(f\"number of frames: {int(cap.get(cv2.CAP_PROP_FRAME_COUNT))}\")\n",
    "print(f\"frame rate: {cap.get(cv2.CAP_PROP_FPS)}\")\n",
    "print(f\"length in seconds: {cap.get(cv2.CAP_PROP_FRAME_COUNT) / cap.get(cv2.CAP_PROP_FPS)}\")\n",
    "\n",
    "for sec in range(duration):\n",
    "    cap.set(cv2.CAP_PROP_POS_MSEC, sec * 1000)\n",
    "    success, image = cap.read()\n",
    "    if success:\n",
    "        cv2.imwrite(os.path.join(frames_dir, f\"frame_{sec:04d}.jpg\"), image)#put each frame in frame folder\n",
    "    else:\n",
    "        print(f\"Frame at {sec}s not saved\")\n",
    "\n",
    "\n",
    "cap.release()"
   ]
  },
  {
   "cell_type": "code",
   "execution_count": 4,
   "id": "1b3f19ba-1f08-49c2-aebb-5239ed9f8ea5",
   "metadata": {},
   "outputs": [
    {
     "name": "stderr",
     "output_type": "stream",
     "text": [
      "Extracting CLIP features: 100%|█████████████| 3655/3655 [04:12<00:00, 14.45it/s]\n"
     ]
    },
    {
     "name": "stdout",
     "output_type": "stream",
     "text": [
      "Final CLIP feature shape: (3655, 768)\n",
      "Saved features to vision_clip_features.mat\n"
     ]
    }
   ],
   "source": [
    "import sys, os\n",
    "sys.path.append(os.path.abspath(\"..\"))\n",
    "from feature_extraction.clip_extractor import initialize_clip_model, extract_clip_features, save_clip_features\n",
    "\n",
    "#clip model\n",
    "processor, vision_model = initialize_clip_model()\n",
    "frame_indices = np.arange(duration)\n",
    "features = extract_clip_features(frames_dir, frame_indices, processor, vision_model)\n",
    "save_clip_features(features, \"vision_clip_features.mat\")\n"
   ]
  },
  {
   "cell_type": "code",
   "execution_count": null,
   "id": "112fade8-7634-4c3b-b550-359fd4f28f42",
   "metadata": {},
   "outputs": [],
   "source": []
  }
 ],
 "metadata": {
  "kernelspec": {
   "display_name": "Python 3 (ipykernel)",
   "language": "python",
   "name": "python3"
  },
  "language_info": {
   "codemirror_mode": {
    "name": "ipython",
    "version": 3
   },
   "file_extension": ".py",
   "mimetype": "text/x-python",
   "name": "python",
   "nbconvert_exporter": "python",
   "pygments_lexer": "ipython3",
   "version": "3.10.16"
  }
 },
 "nbformat": 4,
 "nbformat_minor": 5
}
